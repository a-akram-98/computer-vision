{
 "cells": [
  {
   "cell_type": "markdown",
   "metadata": {},
   "source": [
    "# Images as Grids of Pixels"
   ]
  },
  {
   "cell_type": "code",
   "execution_count": 1,
   "metadata": {},
   "outputs": [
    {
     "name": "stdout",
     "output_type": "stream",
     "text": [
      "fatal: destination path 'computer-vision' already exists and is not an empty directory.\r\n"
     ]
    }
   ],
   "source": [
    "!git config --global user.name \"a-akram-98\"\n",
    "!git config --global user.email \"a.akram.9821@gmail.com\"\n",
    "!git config --global credential.helper wincred\n",
    "!git clone https://github.com/a-akram-98/computer-vision.git\n"
   ]
  },
  {
   "cell_type": "code",
   "execution_count": 2,
   "metadata": {},
   "outputs": [
    {
     "name": "stdout",
     "output_type": "stream",
     "text": [
      "On branch master\r\n",
      "Changes to be committed:\r\n",
      "  (use \"git reset HEAD <file>...\" to unstage)\r\n",
      "\r\n",
      "\t\u001b[32mmodified:   computer-vision/Images as Numerical Data.ipynb\u001b[m\r\n",
      "\r\n",
      "Untracked files:\r\n",
      "  (use \"git add <file>...\" to include in what will be committed)\r\n",
      "\r\n",
      "\t\u001b[31m.ipynb_checkpoints/\u001b[m\r\n",
      "\t\u001b[31mImages as Numerical Data.ipynb\u001b[m\r\n",
      "\t\u001b[31mimages/\u001b[m\r\n",
      "\t\u001b[31mprojectA/\u001b[m\r\n",
      "\r\n"
     ]
    }
   ],
   "source": [
    "!cp \"Images as Numerical Data.ipynb\" /home/workspace/computer-vision/\n",
    "!git add \"/home/workspace/computer-vision/Images as Numerical Data.ipynb\"\n",
    "!git status"
   ]
  },
  {
   "cell_type": "code",
   "execution_count": 4,
   "metadata": {},
   "outputs": [
    {
     "name": "stdout",
     "output_type": "stream",
     "text": [
      "On branch master\n",
      "Untracked files:\n",
      "\t\u001b[31m.ipynb_checkpoints/\u001b[m\n",
      "\t\u001b[31mImages as Numerical Data.ipynb\u001b[m\n",
      "\t\u001b[31mimages/\u001b[m\n",
      "\t\u001b[31mprojectA/\u001b[m\n",
      "\n",
      "nothing added to commit but untracked files present\n",
      "warning: push.default is unset; its implicit value has changed in\n",
      "Git 2.0 from 'matching' to 'simple'. To squelch this message\n",
      "and maintain the traditional behavior, use:\n",
      "\n",
      "  git config --global push.default matching\n",
      "\n",
      "To squelch this message and adopt the new behavior now, use:\n",
      "\n",
      "  git config --global push.default simple\n",
      "\n",
      "When push.default is set to 'matching', git will push local branches\n",
      "to the remote branches that already exist with the same name.\n",
      "\n",
      "Since Git 2.0, Git defaults to the more conservative 'simple'\n",
      "behavior, which only pushes the current branch to the corresponding\n",
      "remote branch that 'git pull' uses to update the current branch.\n",
      "\n",
      "See 'git help config' and search for 'push.default' for further information.\n",
      "(the 'simple' mode was introduced in Git 1.7.11. Use the similar mode\n",
      "'current' instead of 'simple' if you sometimes use older versions of Git)\n",
      "\n",
      "fatal: The current branch master has no upstream branch.\n",
      "To push the current branch and set the remote as upstream, use\n",
      "\n",
      "    git push --set-upstream https://github.com/a-akram-98/computer-vision.git master\n",
      "\n"
     ]
    }
   ],
   "source": [
    "!git commit -m \"no changes\"\n",
    "!git push https://github.com/a-akram-98/computer-vision.git"
   ]
  },
  {
   "cell_type": "code",
   "execution_count": 7,
   "metadata": {},
   "outputs": [
    {
     "name": "stdout",
     "output_type": "stream",
     "text": [
      "fatal: 'origin' does not appear to be a git repository\r\n",
      "fatal: Could not read from remote repository.\r\n",
      "\r\n",
      "Please make sure you have the correct access rights\r\n",
      "and the repository exists.\r\n"
     ]
    }
   ],
   "source": [
    "!git push -u origin master"
   ]
  },
  {
   "cell_type": "markdown",
   "metadata": {},
   "source": [
    "### Import resources"
   ]
  },
  {
   "cell_type": "code",
   "execution_count": null,
   "metadata": {},
   "outputs": [],
   "source": [
    "import numpy as np\n",
    "import matplotlib.image as mpimg  # for reading in images\n",
    "\n",
    "import matplotlib.pyplot as plt\n",
    "import cv2  # computer vision library\n",
    "\n",
    "%matplotlib inline"
   ]
  },
  {
   "cell_type": "markdown",
   "metadata": {},
   "source": [
    "### Read in and display the image"
   ]
  },
  {
   "cell_type": "code",
   "execution_count": null,
   "metadata": {},
   "outputs": [],
   "source": [
    "# Read in the image\n",
    "image = mpimg.imread('images/waymo_car.jpg')\n",
    "\n",
    "# Print out the image dimensions\n",
    "print('Image dimensions:', image.shape)\n",
    "\n",
    "# Change from color to grayscale\n",
    "gray_image = cv2.cvtColor(image, cv2.COLOR_RGB2GRAY)\n",
    "\n",
    "plt.imshow(gray_image, cmap='gray')"
   ]
  },
  {
   "cell_type": "code",
   "execution_count": null,
   "metadata": {},
   "outputs": [],
   "source": [
    "# Prints specific grayscale pixel values\n",
    "# What is the pixel value at x = 400 and y = 300 (on the body of the car)?\n",
    "\n",
    "x = 400\n",
    "y = 300\n",
    "\n",
    "print(gray_image[y,x])\n"
   ]
  },
  {
   "cell_type": "code",
   "execution_count": null,
   "metadata": {},
   "outputs": [],
   "source": [
    "# Finds the maximum and minimum grayscale values in this image\n",
    "\n",
    "max_val = np.amax(gray_image)\n",
    "min_val = np.amin(gray_image)\n",
    "\n",
    "print('Max: ', max_val)\n",
    "print('Min: ', min_val)"
   ]
  },
  {
   "cell_type": "code",
   "execution_count": null,
   "metadata": {},
   "outputs": [],
   "source": [
    "# Create a 5x5 image using just grayscale, numerical values\n",
    "tiny_image = np.array([[0, 20, 30, 150, 120],\n",
    "                      [200, 200, 250, 70, 3],\n",
    "                      [50, 180, 85, 40, 90],\n",
    "                      [240, 100, 50, 255, 10],\n",
    "                      [30, 0, 75, 190, 220]])\n",
    "\n",
    "# To show the pixel grid, use matshow\n",
    "plt.matshow(tiny_image, cmap='gray')\n",
    "\n",
    "## TODO: See if you can draw a tiny smiley face or something else!\n",
    "## You can change the values in the array above to do this"
   ]
  },
  {
   "cell_type": "code",
   "execution_count": null,
   "metadata": {},
   "outputs": [],
   "source": []
  }
 ],
 "metadata": {
  "anaconda-cloud": {},
  "kernelspec": {
   "display_name": "Python 3",
   "language": "python",
   "name": "python3"
  },
  "language_info": {
   "codemirror_mode": {
    "name": "ipython",
    "version": 3
   },
   "file_extension": ".py",
   "mimetype": "text/x-python",
   "name": "python",
   "nbconvert_exporter": "python",
   "pygments_lexer": "ipython3",
   "version": "3.6.3"
  }
 },
 "nbformat": 4,
 "nbformat_minor": 1
}
